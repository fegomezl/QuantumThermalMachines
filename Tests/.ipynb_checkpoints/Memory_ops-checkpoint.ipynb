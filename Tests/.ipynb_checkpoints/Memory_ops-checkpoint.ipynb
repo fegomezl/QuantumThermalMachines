{
 "cells": [
  {
   "cell_type": "code",
   "execution_count": 11,
   "id": "d7ee7e85",
   "metadata": {},
   "outputs": [],
   "source": [
    "using LinearAlgebra\n",
    "using Roots\n",
    "using DataFrames\n",
    "using CSV\n",
    "using BenchmarkTools"
   ]
  },
  {
   "cell_type": "code",
   "execution_count": 12,
   "id": "0292cb2f",
   "metadata": {},
   "outputs": [
    {
     "data": {
      "text/plain": [
       "40"
      ]
     },
     "execution_count": 12,
     "metadata": {},
     "output_type": "execute_result"
    }
   ],
   "source": [
    "const ϵ₀ = 1/8\n",
    "const ΔV = 1/8\n",
    "const Tₗ = 1/8\n",
    "const Tᵣ = 1/8\n",
    "const W = 1.0\n",
    "const W° = 1/2\n",
    "const L₁ = 160\n",
    "const L₂ = 40"
   ]
  },
  {
   "cell_type": "code",
   "execution_count": 13,
   "id": "47fb046e",
   "metadata": {},
   "outputs": [
    {
     "data": {
      "text/plain": [
       "BenchmarkTools.Trial: 10000 samples with 1000 evaluations.\n",
       " Range \u001b[90m(\u001b[39m\u001b[36m\u001b[1mmin\u001b[22m\u001b[39m … \u001b[35mmax\u001b[39m\u001b[90m):  \u001b[39m\u001b[36m\u001b[1m 0.001 ns\u001b[22m\u001b[39m … \u001b[35m  3.459 μs\u001b[39m  \u001b[90m┊\u001b[39m GC \u001b[90m(\u001b[39mmin … max\u001b[90m): \u001b[39m0.00% … 0.00%\n",
       " Time  \u001b[90m(\u001b[39m\u001b[34m\u001b[1mmedian\u001b[22m\u001b[39m\u001b[90m):     \u001b[39m\u001b[34m\u001b[1m24.813 ns               \u001b[22m\u001b[39m\u001b[90m┊\u001b[39m GC \u001b[90m(\u001b[39mmedian\u001b[90m):    \u001b[39m0.00%\n",
       " Time  \u001b[90m(\u001b[39m\u001b[32m\u001b[1mmean\u001b[22m\u001b[39m ± \u001b[32mσ\u001b[39m\u001b[90m):   \u001b[39m\u001b[32m\u001b[1m51.067 ns\u001b[22m\u001b[39m ± \u001b[32m119.180 ns\u001b[39m  \u001b[90m┊\u001b[39m GC \u001b[90m(\u001b[39mmean ± σ\u001b[90m):  \u001b[39m0.00% ± 0.00%\n",
       "\n",
       "  \u001b[39m▃\u001b[39m \u001b[39m█\u001b[34m▂\u001b[39m\u001b[39m \u001b[32m \u001b[39m\u001b[39m \u001b[39m \u001b[39m \u001b[39m \u001b[39m \u001b[39m \u001b[39m \u001b[39m \u001b[39m \u001b[39m \u001b[39m \u001b[39m \u001b[39m \u001b[39m \u001b[39m \u001b[39m \u001b[39m \u001b[39m \u001b[39m \u001b[39m \u001b[39m \u001b[39m \u001b[39m \u001b[39m \u001b[39m \u001b[39m \u001b[39m \u001b[39m \u001b[39m \u001b[39m \u001b[39m \u001b[39m \u001b[39m \u001b[39m \u001b[39m \u001b[39m \u001b[39m \u001b[39m \u001b[39m \u001b[39m \u001b[39m \u001b[39m \u001b[39m \u001b[39m \u001b[39m \u001b[39m \u001b[39m \u001b[39m \u001b[39m \u001b[39m \u001b[39m▁\u001b[39m \u001b[39m \u001b[39m \u001b[39m \u001b[39m▁\n",
       "  \u001b[39m█\u001b[39m▇\u001b[39m█\u001b[34m█\u001b[39m\u001b[39m▇\u001b[32m▄\u001b[39m\u001b[39m▁\u001b[39m▁\u001b[39m▃\u001b[39m▁\u001b[39m▁\u001b[39m▄\u001b[39m▁\u001b[39m▃\u001b[39m▃\u001b[39m▃\u001b[39m▄\u001b[39m▄\u001b[39m▅\u001b[39m▄\u001b[39m▅\u001b[39m▄\u001b[39m▃\u001b[39m▄\u001b[39m▃\u001b[39m▄\u001b[39m▁\u001b[39m▄\u001b[39m▄\u001b[39m▃\u001b[39m▄\u001b[39m▄\u001b[39m▃\u001b[39m▄\u001b[39m▄\u001b[39m▃\u001b[39m▄\u001b[39m▄\u001b[39m▅\u001b[39m▄\u001b[39m▆\u001b[39m▅\u001b[39m▇\u001b[39m▆\u001b[39m▅\u001b[39m▅\u001b[39m▅\u001b[39m▆\u001b[39m▅\u001b[39m▅\u001b[39m▅\u001b[39m▅\u001b[39m▃\u001b[39m▄\u001b[39m▆\u001b[39m█\u001b[39m█\u001b[39m█\u001b[39m▇\u001b[39m▆\u001b[39m \u001b[39m█\n",
       "  0.001 ns\u001b[90m      \u001b[39m\u001b[90mHistogram: \u001b[39m\u001b[90m\u001b[1mlog(\u001b[22m\u001b[39m\u001b[90mfrequency\u001b[39m\u001b[90m\u001b[1m)\u001b[22m\u001b[39m\u001b[90m by time\u001b[39m       580 ns \u001b[0m\u001b[1m<\u001b[22m\n",
       "\n",
       " Memory estimate\u001b[90m: \u001b[39m\u001b[33m0 bytes\u001b[39m, allocs estimate\u001b[90m: \u001b[39m\u001b[33m0\u001b[39m."
      ]
     },
     "execution_count": 13,
     "metadata": {},
     "output_type": "execute_result"
    }
   ],
   "source": [
    "function FermiDirac(ϵ::Float64, μ::Float64, T::Float64)\n",
    "    return 1/(1+exp((ϵ-μ)/T))\n",
    "end\n",
    "\n",
    "@benchmark $FermiDirac($ϵ₀, $0.0, $Tᵣ)"
   ]
  },
  {
   "cell_type": "code",
   "execution_count": 14,
   "id": "c13cdafa",
   "metadata": {},
   "outputs": [
    {
     "name": "stdout",
     "output_type": "stream",
     "text": [
      "MethodInstance for FermiDirac(::Float64, ::Float64, ::Float64)\n",
      "  from FermiDirac(ϵ::Float64, μ::Float64, T::Float64) in Main at In[13]:1\n",
      "Arguments\n",
      "  #self#\u001b[36m::Core.Const(FermiDirac)\u001b[39m\n",
      "  ϵ\u001b[36m::Float64\u001b[39m\n",
      "  μ\u001b[36m::Float64\u001b[39m\n",
      "  T\u001b[36m::Float64\u001b[39m\n",
      "Body\u001b[36m::Float64\u001b[39m\n",
      "\u001b[90m1 ─\u001b[39m %1 = (ϵ - μ)\u001b[36m::Float64\u001b[39m\n",
      "\u001b[90m│  \u001b[39m %2 = (%1 / T)\u001b[36m::Float64\u001b[39m\n",
      "\u001b[90m│  \u001b[39m %3 = Main.exp(%2)\u001b[36m::Float64\u001b[39m\n",
      "\u001b[90m│  \u001b[39m %4 = (1 + %3)\u001b[36m::Float64\u001b[39m\n",
      "\u001b[90m│  \u001b[39m %5 = (1 / %4)\u001b[36m::Float64\u001b[39m\n",
      "\u001b[90m└──\u001b[39m      return %5\n",
      "\n"
     ]
    }
   ],
   "source": [
    "@code_warntype FermiDirac(ϵ₀, 0.0, Tᵣ)"
   ]
  },
  {
   "cell_type": "code",
   "execution_count": 15,
   "id": "0950931f",
   "metadata": {},
   "outputs": [
    {
     "name": "stdout",
     "output_type": "stream",
     "text": [
      "  7.868 ns (0 allocations: 0 bytes)\n"
     ]
    },
    {
     "data": {
      "text/plain": [
       "1.1188004365129958"
      ]
     },
     "execution_count": 15,
     "metadata": {},
     "output_type": "execute_result"
    }
   ],
   "source": [
    "function ExponentialRate(L::Int64, C::Float64)\n",
    "    f(x) = x*(1.0-x^L)/(1.0-x+1e-12)-C\n",
    "    return find_zero(f, (1.0, C), A42())\n",
    "end\n",
    "\n",
    "Δϵ = 2*W°/(L₁-1)\n",
    "a = (W-W°)/Δϵ\n",
    "b = L₂÷2\n",
    "\n",
    "@btime $ExponentialRate($b, $a)"
   ]
  },
  {
   "cell_type": "code",
   "execution_count": 16,
   "id": "4296dfd5",
   "metadata": {},
   "outputs": [
    {
     "data": {
      "text/plain": [
       "BenchmarkTools.Trial: 2086 samples with 994 evaluations.\n",
       " Range \u001b[90m(\u001b[39m\u001b[36m\u001b[1mmin\u001b[22m\u001b[39m … \u001b[35mmax\u001b[39m\u001b[90m):  \u001b[39m\u001b[36m\u001b[1m48.099 ns\u001b[22m\u001b[39m … \u001b[35m13.151 μs\u001b[39m  \u001b[90m┊\u001b[39m GC \u001b[90m(\u001b[39mmin … max\u001b[90m): \u001b[39m0.00% … 0.00%\n",
       " Time  \u001b[90m(\u001b[39m\u001b[34m\u001b[1mmedian\u001b[22m\u001b[39m\u001b[90m):     \u001b[39m\u001b[34m\u001b[1m 1.987 μs              \u001b[22m\u001b[39m\u001b[90m┊\u001b[39m GC \u001b[90m(\u001b[39mmedian\u001b[90m):    \u001b[39m0.00%\n",
       " Time  \u001b[90m(\u001b[39m\u001b[32m\u001b[1mmean\u001b[22m\u001b[39m ± \u001b[32mσ\u001b[39m\u001b[90m):   \u001b[39m\u001b[32m\u001b[1m 2.315 μs\u001b[22m\u001b[39m ± \u001b[32m 1.467 μs\u001b[39m  \u001b[90m┊\u001b[39m GC \u001b[90m(\u001b[39mmean ± σ\u001b[90m):  \u001b[39m3.52% ± 8.35%\n",
       "\n",
       "  \u001b[39m \u001b[39m \u001b[39m \u001b[39m \u001b[39m \u001b[39m \u001b[39m▇\u001b[39m \u001b[39m \u001b[39m \u001b[39m \u001b[39m \u001b[39m▁\u001b[34m█\u001b[39m\u001b[39m \u001b[39m \u001b[32m \u001b[39m\u001b[39m \u001b[39m \u001b[39m \u001b[39m▁\u001b[39m \u001b[39m \u001b[39m \u001b[39m \u001b[39m \u001b[39m \u001b[39m \u001b[39m \u001b[39m \u001b[39m \u001b[39m \u001b[39m \u001b[39m \u001b[39m \u001b[39m \u001b[39m \u001b[39m \u001b[39m \u001b[39m \u001b[39m \u001b[39m \u001b[39m \u001b[39m \u001b[39m \u001b[39m \u001b[39m \u001b[39m \u001b[39m \u001b[39m \u001b[39m \u001b[39m \u001b[39m \u001b[39m \u001b[39m \u001b[39m \u001b[39m \u001b[39m \u001b[39m \u001b[39m \u001b[39m \n",
       "  \u001b[39m▂\u001b[39m▃\u001b[39m▃\u001b[39m▃\u001b[39m▄\u001b[39m▆\u001b[39m█\u001b[39m▆\u001b[39m▆\u001b[39m▆\u001b[39m█\u001b[39m▅\u001b[39m█\u001b[34m█\u001b[39m\u001b[39m▇\u001b[39m█\u001b[32m▆\u001b[39m\u001b[39m▅\u001b[39m▆\u001b[39m▆\u001b[39m█\u001b[39m▅\u001b[39m▄\u001b[39m▃\u001b[39m▃\u001b[39m▃\u001b[39m▄\u001b[39m▄\u001b[39m▄\u001b[39m▃\u001b[39m▂\u001b[39m▃\u001b[39m▃\u001b[39m▃\u001b[39m▃\u001b[39m▃\u001b[39m▂\u001b[39m▂\u001b[39m▂\u001b[39m▂\u001b[39m▂\u001b[39m▂\u001b[39m▂\u001b[39m▂\u001b[39m▂\u001b[39m▁\u001b[39m▂\u001b[39m▁\u001b[39m▁\u001b[39m▁\u001b[39m▁\u001b[39m▂\u001b[39m▁\u001b[39m▁\u001b[39m▂\u001b[39m▁\u001b[39m▂\u001b[39m▁\u001b[39m▂\u001b[39m \u001b[39m▃\n",
       "  48.1 ns\u001b[90m         Histogram: frequency by time\u001b[39m        8.63 μs \u001b[0m\u001b[1m<\u001b[22m\n",
       "\n",
       " Memory estimate\u001b[90m: \u001b[39m\u001b[33m1.09 KiB\u001b[39m, allocs estimate\u001b[90m: \u001b[39m\u001b[33m5\u001b[39m."
      ]
     },
     "execution_count": 16,
     "metadata": {},
     "output_type": "execute_result"
    }
   ],
   "source": [
    "using LazyArrays\n",
    "\n",
    "function BathSpectra(W::Float64, W°::Float64, L₁::Int64, L₂::Int64)\n",
    "\n",
    "    # Uniform region\n",
    "    InnerRange = 1:L₁÷2\n",
    "    Δϵ = 2W°/(L₁-1) \n",
    "    ϵ₁ = @. Δϵ*(InnerRange-0.5)\n",
    "    γ₁ = @. Δϵ+0InnerRange\n",
    "\n",
    "    # Logarithmic region\n",
    "    OuterRange = 1:L₂÷2\n",
    "    Φ = ExponentialRate(L₂÷2, (W-W°)/Δϵ)\n",
    "    ϵ₂ = @. W° + ((W-W°)/(1-Φ^(L₂÷2)))*(1.0-Φ^OuterRange)\n",
    "    γ₂ = @. Δϵ*Φ.^OuterRange\n",
    "\n",
    "    # Concatenate all\n",
    "    ϵ = ApplyArray(vcat, reverse(-ϵ₂), reverse(-ϵ₁), ϵ₁, ϵ₂)\n",
    "    γ = ApplyArray(vcat, reverse(γ₂), reverse(γ₁), γ₁, γ₂)\n",
    "\n",
    "    return ϵ, γ\n",
    "end\n",
    "\n",
    "@benchmark $BathSpectra($W, $W°, $L₁, $L₂)"
   ]
  },
  {
   "cell_type": "code",
   "execution_count": 17,
   "id": "c5ef4dfd",
   "metadata": {},
   "outputs": [
    {
     "data": {
      "text/plain": [
       "([-1.0, -0.9406179182442861, -0.8875413553312501, -0.8401007562924605, -0.7976976632201611, -0.7597971657869831, -0.7259211534113499, -0.6956422839453924, -0.6685785928010373, -0.6443886745089908  …  0.6443886745089908, 0.6685785928010373, 0.6956422839453924, 0.7259211534113499, 0.7597971657869831, 0.7976976632201611, 0.8401007562924605, 0.8875413553312501, 0.9406179182442861, 1.0], [0.059382081755214096, 0.05307656291258905, 0.04744059903839027, 0.04240309307194234, 0.03790049743285901, 0.03387601237534802, 0.03027886946570254, 0.027063691144127315, 0.024189918291842704, 0.021621298582288954  …  0.021621298582288954, 0.024189918291842704, 0.027063691144127315, 0.03027886946570254, 0.03387601237534802, 0.03790049743285901, 0.04240309307194234, 0.04744059903839027, 0.05307656291258905, 0.059382081755214096])"
      ]
     },
     "execution_count": 17,
     "metadata": {},
     "output_type": "execute_result"
    }
   ],
   "source": [
    "Γ = LinRange(0.0, 0.5, 20)\n",
    "ϵ, γ = BathSpectra(W, W°, L₁, L₂)"
   ]
  },
  {
   "cell_type": "code",
   "execution_count": 26,
   "id": "5a499cc4",
   "metadata": {},
   "outputs": [
    {
     "name": "stdout",
     "output_type": "stream",
     "text": [
      "  0.001 ns (5 allocations: 1.94 KiB)\n"
     ]
    },
    {
     "data": {
      "text/plain": [
       "vcat(hcat(400×400 Diagonal{Float64, ApplyArray{Float64, 1, typeof(vcat), Tuple{ApplyArray{Float64, 1, typeof(vcat), Tuple{Vector{Float64}, StepRangeLen{Float64, Float64, Float64, Int64}, StepRangeLen{Float64, Float64, Float64, Int64}, Vector{Float64}}}, ApplyArray{Float64, 1, typeof(vcat), Tuple{Vector{Float64}, StepRangeLen{Float64, Float64, Float64, Int64}, StepRangeLen{Float64, Float64, Float64, Int64}, Vector{Float64}}}}}}, vcat((Float64) .* (vcat(20-element Vector{Float64}, 80-element Vector{Float64}, 80-element Vector{Float64}, 20-element Vector{Float64})), (Float64) .* (vcat(20-element Vector{Float64}, 80-element Vector{Float64}, 80-element Vector{Float64}, 20-element Vector{Float64})))), hcat((vcat((Float64) .* (vcat(20-element Vector{Float64}, 80-element Vector{Float64}, 80-element Vector{Float64}, 20-element Vector{Float64})), (Float64) .* (vcat(20-element Vector{Float64}, 80-element Vector{Float64}, 80-element Vector{Float64}, 20-element Vector{Float64}))))', 1-element Vector{Float64})):\n",
       " -1.0          ⋅          ⋅         …   ⋅         ⋅         0.0532474\n",
       "   ⋅         -0.940618    ⋅             ⋅         ⋅         0.050341\n",
       "   ⋅           ⋅        -0.887541       ⋅         ⋅         0.0475933\n",
       "   ⋅           ⋅          ⋅             ⋅         ⋅         0.0449955\n",
       "   ⋅           ⋅          ⋅             ⋅         ⋅         0.0425396\n",
       "   ⋅           ⋅          ⋅         …   ⋅         ⋅         0.0402177\n",
       "   ⋅           ⋅          ⋅             ⋅         ⋅         0.0380225\n",
       "   ⋅           ⋅          ⋅             ⋅         ⋅         0.0359471\n",
       "   ⋅           ⋅          ⋅             ⋅         ⋅         0.033985\n",
       "   ⋅           ⋅          ⋅             ⋅         ⋅         0.0321301\n",
       "   ⋅           ⋅          ⋅         …   ⋅         ⋅         0.0303763\n",
       "   ⋅           ⋅          ⋅             ⋅         ⋅         0.0287183\n",
       "   ⋅           ⋅          ⋅             ⋅         ⋅         0.0271508\n",
       "  ⋮                                 ⋱                       ⋮\n",
       "   ⋅           ⋅          ⋅             ⋅         ⋅         0.0303763\n",
       "   ⋅           ⋅          ⋅         …   ⋅         ⋅         0.0321301\n",
       "   ⋅           ⋅          ⋅             ⋅         ⋅         0.033985\n",
       "   ⋅           ⋅          ⋅             ⋅         ⋅         0.0359471\n",
       "   ⋅           ⋅          ⋅             ⋅         ⋅         0.0380225\n",
       "   ⋅           ⋅          ⋅             ⋅         ⋅         0.0402177\n",
       "   ⋅           ⋅          ⋅         …   ⋅         ⋅         0.0425396\n",
       "   ⋅           ⋅          ⋅             ⋅         ⋅         0.0449955\n",
       "   ⋅           ⋅          ⋅             ⋅         ⋅         0.0475933\n",
       "   ⋅           ⋅          ⋅            0.940618   ⋅         0.050341\n",
       "   ⋅           ⋅          ⋅             ⋅        1.0        0.0532474\n",
       "  0.0532474   0.050341   0.0475933  …  0.050341  0.0532474  0.125"
      ]
     },
     "execution_count": 26,
     "metadata": {},
     "output_type": "execute_result"
    }
   ],
   "source": [
    "function SystemLeadHamiltonian(ϵ₀::Float64, Γ::Float64, ϵ, γ)\n",
    "    Hₛ = [ϵ₀]\n",
    "    Hₗ = Diagonal(ApplyArray(vcat, ϵ, ϵ))\n",
    "\n",
    "        \n",
    "    #aux = sqrt(Γ/(2π))\n",
    "    κ =  @. √(Γ/(2π))*√(γ)\n",
    "    Hₛₗ = ApplyArray(vcat, κ, κ)\n",
    "\n",
    "    H₁ = ApplyArray(hcat, Hₗ, Hₛₗ)\n",
    "    H₂ = ApplyArray(hcat, Hₛₗ', Hₛ)\n",
    "    return ApplyArray(vcat, H₁, H₂)\n",
    "end\n",
    "\n",
    "@btime $SystemLeadHamiltonian($ϵ₀, $0.3, $ϵ, $γ)"
   ]
  },
  {
   "cell_type": "code",
   "execution_count": 28,
   "id": "8606fe13",
   "metadata": {},
   "outputs": [
    {
     "name": "stdout",
     "output_type": "stream",
     "text": [
      "  0.001 ns (4 allocations: 1.06 KiB)\n"
     ]
    },
    {
     "data": {
      "text/plain": [
       "([0.059370001837772 0.0 … 0.0 0.0; 0.0 0.053059202017950474 … 0.0 0.0; … ; 0.0 0.0 … 1.2079917442090418e-5 0.0; 0.0 0.0 … 0.0 0.0], [1.2079917442092691e-5 0.0 … 0.0 0.0; 0.0 1.7360894638572544e-5 … 0.0 0.0; … ; 0.0 0.0 … 0.059370001837772 0.0; 0.0 0.0 … 0.0 0.0])"
      ]
     },
     "execution_count": 28,
     "metadata": {},
     "output_type": "execute_result"
    }
   ],
   "source": [
    "function TunnelingRates(ΔV::Float64, Tₗ::Float64, Tᵣ::Float64, ϵ::Array{Float64}, γ::Array{Float64})\n",
    "    ρₗ = FermiDirac.(ϵ, ΔV/2, Tₗ)\n",
    "    ρᵣ = FermiDirac.(ϵ, -ΔV/2, Tᵣ)\n",
    "    Γ₊ = vcat(@.γ*ρₗ, @.γ*ρᵣ, [0.0])\n",
    "    Γ₋ = vcat(@.γ*(1.0-ρₗ), @.γ*(1.0-ρᵣ), [0.0])\n",
    "    return Diagonal(Γ₊), Diagonal(Γ₋)\n",
    "end\n",
    "\n",
    "@btime $TunnelingRates($ΔV, $Tₗ, $Tᵣ, $ϵ, $γ)"
   ]
  },
  {
   "cell_type": "code",
   "execution_count": 10,
   "id": "d7b0588d",
   "metadata": {},
   "outputs": [
    {
     "name": "stdout",
     "output_type": "stream",
     "text": [
      "  0.001 ns (4 allocations: 1.06 KiB)\n"
     ]
    },
    {
     "data": {
      "text/plain": [
       "([0.059370001837772 0.0 … 0.0 0.0; 0.0 0.053059202017950474 … 0.0 0.0; … ; 0.0 0.0 … 1.2079917442090418e-5 0.0; 0.0 0.0 … 0.0 0.0], [1.2079917442092691e-5 0.0 … 0.0 0.0; 0.0 1.7360894638572544e-5 … 0.0 0.0; … ; 0.0 0.0 … 0.059370001837772 0.0; 0.0 0.0 … 0.0 0.0])"
      ]
     },
     "execution_count": 10,
     "metadata": {},
     "output_type": "execute_result"
    }
   ],
   "source": [
    "using StaticArrays\n",
    "\n",
    "function TunnelingRates(ΔV::Float64, Tₗ::Float64, Tᵣ::Float64, ϵ, γ)\n",
    "    ρₗ = @. γ*FermiDirac(ϵ, ΔV/2, Tₗ)\n",
    "    ρᵣ = @. γ*FermiDirac(ϵ, -ΔV/2, Tᵣ)\n",
    "    \n",
    "    Γ₊ = ApplyArray(vcat, ρₗ, ρᵣ, zeros(SVector{1}))\n",
    "    Γ₋ = ApplyArray(vcat, γ.-ρₗ, γ.-ρᵣ, zeros(SVector{1}))\n",
    "    \n",
    "    return Diagonal(Γ₊), Diagonal(Γ₋)\n",
    "end\n",
    "\n",
    "@btime $TunnelingRates($ΔV, $Tₗ, $Tᵣ, $ϵ, $γ)"
   ]
  },
  {
   "cell_type": "code",
   "execution_count": null,
   "id": "3517ad75",
   "metadata": {},
   "outputs": [],
   "source": [
    "function Liouvillian(ϵ₀::Float64, Γ::Float64, ΔV::Float64, Tₗ::Float64, Tᵣ::Float64, ϵ, γ)\n",
    "    H = SystemBathHamiltonian(ϵ₀, Γ, ϵ, γ)\n",
    "    Γ₊, Γ₋ = TunnelingRates(ΔV, Tₗ, Tᵣ, ϵ, γ)\n",
    "    Ω = (Γ₋ - Γ₊)/2\n",
    "    \n",
    "    A1 = @. H-im*Ω\n",
    "    B1 = @. im*Γ₊\n",
    "    L₁ = ApplyArray(hcat, A1, B1)\n",
    "    \n",
    "    A2 = @. im*Γ₋\n",
    "    B2 = @. H+im*Ω\n",
    "    L₂ = ApplyArray(hcat, A2,  B2)\n",
    "    \n",
    "    return ApplyArray(vcat, L₁, L₂)\n",
    "end\n",
    "\n",
    "@btime $Liouvillian($ϵ₀, $0.3, $ΔV, $Tₗ, $Tᵣ, $ϵ, $γ)\n",
    "L = Liouvillian(ϵ₀, 0.3, ΔV, Tₗ, Tᵣ, ϵ, γ);"
   ]
  },
  {
   "cell_type": "code",
   "execution_count": null,
   "id": "886081bb",
   "metadata": {},
   "outputs": [],
   "source": [
    "function RunMachine(ϵ₀::Float64, W::Float64, W°::Float64, Γ::Float64, ΔV::Float64, Tₗ::Float64, Tᵣ::Float64, L₁::Int64, L₂::Int64)\n",
    "    ϵ, γ = BathSpectra(W, W°, L₁, L₂)\n",
    "    L = Liouvillian(ϵ₀, Γ, ΔV, Tₗ, Tᵣ, ϵ, γ) \n",
    "    \n",
    "    λ, V = eigen(materialize(L),permute=false,scale=false)\n",
    "    V⁻¹ = inv(materialize(V))\n",
    "    D = @. 0.5*(sign(imag(λ))+1)\n",
    "    Corr = V*Diagonal(D)*V⁻¹\n",
    "\n",
    "    aₖaₖ= diag(Corr)[1:L₁+L₂]\n",
    "    aₖc = Corr[1:L₁+L₂, 1+2(L₁+L₂)]\n",
    "    caₖ = Corr[1+2(L₁+L₂), 1:L₁+L₂]\n",
    "\n",
    "    A = @. FermiDirac(ϵ, ΔV/2, Tₗ) - real(aₖaₖ)\n",
    "    B = @. real(aₖc) + real(caₖ)\n",
    "\n",
    "    Jₚ = sum(@. γ*A)\n",
    "    Jₕ = sum(@. γ*ϵ*A - √(Γ/(8π))*(γ^1.5)*B)\n",
    "\n",
    "    return Jₚ, Jₕ\n",
    "end\n",
    "\n",
    "@btime $RunMachine($ϵ₀, $W, $W°, $0.3, $ΔV, $Tₗ, $Tᵣ, $L₁, $L₂)\n",
    "RunMachine(ϵ₀, W, W°, 0.3, ΔV, Tₗ, Tᵣ, L₁, L₂);"
   ]
  },
  {
   "cell_type": "code",
   "execution_count": null,
   "id": "5edca0d9",
   "metadata": {},
   "outputs": [],
   "source": [
    "Γ = LinRange(0.0, 0.5, 20)\n",
    "@time J = RunMachine.(ϵ₀, W, W°, Γ, ΔV, Tₗ, Tᵣ, L₁, L₂)"
   ]
  },
  {
   "cell_type": "code",
   "execution_count": null,
   "id": "79870cec",
   "metadata": {},
   "outputs": [],
   "source": [
    "using CSV\n",
    "A = hcat(collect.(J)...)\n",
    "vcat(collect(Γ)', A)'"
   ]
  },
  {
   "cell_type": "code",
   "execution_count": null,
   "id": "0648f670",
   "metadata": {},
   "outputs": [],
   "source": [
    "Table = CSV.Tables.table(vcat(collect(Γ)', A)')"
   ]
  },
  {
   "cell_type": "code",
   "execution_count": null,
   "id": "97f66763",
   "metadata": {},
   "outputs": [],
   "source": [
    "DataFrame(Table)"
   ]
  }
 ],
 "metadata": {
  "kernelspec": {
   "display_name": "Julia 1.8.0",
   "language": "julia",
   "name": "julia-1.8"
  },
  "language_info": {
   "file_extension": ".jl",
   "mimetype": "application/julia",
   "name": "julia",
   "version": "1.8.0"
  }
 },
 "nbformat": 4,
 "nbformat_minor": 5
}
