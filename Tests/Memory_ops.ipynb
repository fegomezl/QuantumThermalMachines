{
 "cells": [
  {
   "cell_type": "code",
   "execution_count": 1,
   "id": "d7ee7e85",
   "metadata": {},
   "outputs": [],
   "source": [
    "using LinearAlgebra\n",
    "using Roots\n",
    "using DataFrames\n",
    "using CSV\n",
    "using StaticArrays\n",
    "using BenchmarkTools"
   ]
  },
  {
   "cell_type": "code",
   "execution_count": 2,
   "id": "0292cb2f",
   "metadata": {},
   "outputs": [
    {
     "data": {
      "text/plain": [
       "40"
      ]
     },
     "execution_count": 2,
     "metadata": {},
     "output_type": "execute_result"
    }
   ],
   "source": [
    "const ϵ₀ = 1/8\n",
    "const ΔV = 1/8\n",
    "const Tₗ = 1/8\n",
    "const Tᵣ = 1/8\n",
    "const W = 1.0\n",
    "const W° = 1/2\n",
    "const L₁ = 160\n",
    "const L₂ = 40"
   ]
  },
  {
   "cell_type": "code",
   "execution_count": 3,
   "id": "47fb046e",
   "metadata": {},
   "outputs": [
    {
     "data": {
      "text/plain": [
       "BenchmarkTools.Trial: 10000 samples with 1000 evaluations.\n",
       " Range \u001b[90m(\u001b[39m\u001b[36m\u001b[1mmin\u001b[22m\u001b[39m … \u001b[35mmax\u001b[39m\u001b[90m):  \u001b[39m\u001b[36m\u001b[1m5.043 ns\u001b[22m\u001b[39m … \u001b[35m14.419 ns\u001b[39m  \u001b[90m┊\u001b[39m GC \u001b[90m(\u001b[39mmin … max\u001b[90m): \u001b[39m0.00% … 0.00%\n",
       " Time  \u001b[90m(\u001b[39m\u001b[34m\u001b[1mmedian\u001b[22m\u001b[39m\u001b[90m):     \u001b[39m\u001b[34m\u001b[1m5.622 ns              \u001b[22m\u001b[39m\u001b[90m┊\u001b[39m GC \u001b[90m(\u001b[39mmedian\u001b[90m):    \u001b[39m0.00%\n",
       " Time  \u001b[90m(\u001b[39m\u001b[32m\u001b[1mmean\u001b[22m\u001b[39m ± \u001b[32mσ\u001b[39m\u001b[90m):   \u001b[39m\u001b[32m\u001b[1m5.608 ns\u001b[22m\u001b[39m ± \u001b[32m 0.481 ns\u001b[39m  \u001b[90m┊\u001b[39m GC \u001b[90m(\u001b[39mmean ± σ\u001b[90m):  \u001b[39m0.00% ± 0.00%\n",
       "\n",
       "  \u001b[39m \u001b[39m \u001b[39m \u001b[39m \u001b[39m \u001b[39m \u001b[39m \u001b[39m \u001b[39m \u001b[39m \u001b[39m \u001b[39m \u001b[39m \u001b[39m \u001b[39m \u001b[39m \u001b[39m \u001b[32m█\u001b[39m\u001b[34m▃\u001b[39m\u001b[39m \u001b[39m \u001b[39m \u001b[39m▄\u001b[39m \u001b[39m \u001b[39m \u001b[39m \u001b[39m \u001b[39m \u001b[39m \u001b[39m \u001b[39m \u001b[39m \u001b[39m \u001b[39m \u001b[39m \u001b[39m \u001b[39m \u001b[39m \u001b[39m \u001b[39m \u001b[39m \u001b[39m \u001b[39m \u001b[39m \u001b[39m \u001b[39m \u001b[39m \u001b[39m \u001b[39m \u001b[39m \u001b[39m \u001b[39m \u001b[39m \u001b[39m \u001b[39m \u001b[39m \u001b[39m \u001b[39m \u001b[39m \n",
       "  \u001b[39m▄\u001b[39m█\u001b[39m▃\u001b[39m▂\u001b[39m▃\u001b[39m▄\u001b[39m▂\u001b[39m▃\u001b[39m▄\u001b[39m▅\u001b[39m▂\u001b[39m▃\u001b[39m▃\u001b[39m▄\u001b[39m▂\u001b[39m▃\u001b[39m▄\u001b[32m█\u001b[39m\u001b[34m█\u001b[39m\u001b[39m▃\u001b[39m▂\u001b[39m▅\u001b[39m█\u001b[39m▄\u001b[39m▆\u001b[39m▃\u001b[39m▁\u001b[39m▁\u001b[39m▁\u001b[39m▅\u001b[39m▂\u001b[39m▁\u001b[39m▂\u001b[39m▁\u001b[39m▂\u001b[39m▂\u001b[39m▂\u001b[39m▂\u001b[39m▁\u001b[39m▁\u001b[39m▁\u001b[39m▁\u001b[39m▂\u001b[39m▁\u001b[39m▁\u001b[39m▂\u001b[39m▂\u001b[39m▁\u001b[39m▂\u001b[39m▂\u001b[39m▂\u001b[39m▂\u001b[39m▂\u001b[39m▂\u001b[39m▂\u001b[39m▂\u001b[39m▂\u001b[39m▂\u001b[39m \u001b[39m▃\n",
       "  5.04 ns\u001b[90m        Histogram: frequency by time\u001b[39m        6.92 ns \u001b[0m\u001b[1m<\u001b[22m\n",
       "\n",
       " Memory estimate\u001b[90m: \u001b[39m\u001b[33m0 bytes\u001b[39m, allocs estimate\u001b[90m: \u001b[39m\u001b[33m0\u001b[39m."
      ]
     },
     "execution_count": 3,
     "metadata": {},
     "output_type": "execute_result"
    }
   ],
   "source": [
    "function FermiDirac(ϵ::Float64, μ::Float64, T::Float64)\n",
    "    return 1/(1+exp((ϵ-μ)/T))\n",
    "end\n",
    "\n",
    "@benchmark $FermiDirac($ϵ₀, $0.0, $Tᵣ)"
   ]
  },
  {
   "cell_type": "code",
   "execution_count": 4,
   "id": "c13cdafa",
   "metadata": {},
   "outputs": [
    {
     "name": "stdout",
     "output_type": "stream",
     "text": [
      "MethodInstance for FermiDirac(::Float64, ::Float64, ::Float64)\n",
      "  from FermiDirac(ϵ::Float64, μ::Float64, T::Float64) in Main at In[3]:1\n",
      "Arguments\n",
      "  #self#\u001b[36m::Core.Const(FermiDirac)\u001b[39m\n",
      "  ϵ\u001b[36m::Float64\u001b[39m\n",
      "  μ\u001b[36m::Float64\u001b[39m\n",
      "  T\u001b[36m::Float64\u001b[39m\n",
      "Body\u001b[36m::Float64\u001b[39m\n",
      "\u001b[90m1 ─\u001b[39m %1 = (ϵ - μ)\u001b[36m::Float64\u001b[39m\n",
      "\u001b[90m│  \u001b[39m %2 = (%1 / T)\u001b[36m::Float64\u001b[39m\n",
      "\u001b[90m│  \u001b[39m %3 = Main.exp(%2)\u001b[36m::Float64\u001b[39m\n",
      "\u001b[90m│  \u001b[39m %4 = (1 + %3)\u001b[36m::Float64\u001b[39m\n",
      "\u001b[90m│  \u001b[39m %5 = (1 / %4)\u001b[36m::Float64\u001b[39m\n",
      "\u001b[90m└──\u001b[39m      return %5\n",
      "\n"
     ]
    }
   ],
   "source": [
    "@code_warntype FermiDirac(ϵ₀, 0.0, Tᵣ)"
   ]
  },
  {
   "cell_type": "code",
   "execution_count": 5,
   "id": "0950931f",
   "metadata": {},
   "outputs": [
    {
     "name": "stdout",
     "output_type": "stream",
     "text": [
      "  905.659 ns (0 allocations: 0 bytes)\n"
     ]
    },
    {
     "data": {
      "text/plain": [
       "1.1188004365129958"
      ]
     },
     "execution_count": 5,
     "metadata": {},
     "output_type": "execute_result"
    }
   ],
   "source": [
    "function ExponentialRate(L::Int64, C::Float64)\n",
    "    f(x) = x*(1.0-x^L)/(1.0-x+1e-12)-C\n",
    "    return find_zero(f, (1.0, C), A42())\n",
    "end\n",
    "\n",
    "Δϵ = 2*W°/(L₁-1)\n",
    "a = (W-W°)/Δϵ\n",
    "b = L₂÷2\n",
    "\n",
    "@btime $ExponentialRate($b, $a)"
   ]
  },
  {
   "cell_type": "code",
   "execution_count": 6,
   "id": "ecbec7a2",
   "metadata": {},
   "outputs": [
    {
     "name": "stdout",
     "output_type": "stream",
     "text": [
      "  1.734 μs (6 allocations: 1.31 KiB)\n"
     ]
    },
    {
     "data": {
      "text/plain": [
       "([-1.0, -0.9406179182442861, -0.8875413553312501, -0.8401007562924605, -0.7976976632201611, -0.7597971657869831, -0.7259211534113499, -0.6956422839453924, -0.6685785928010373, -0.6443886745089908  …  0.6443886745089908, 0.6685785928010373, 0.6956422839453924, 0.7259211534113499, 0.7597971657869831, 0.7976976632201611, 0.8401007562924605, 0.8875413553312501, 0.9406179182442861, 1.0], [0.007036480732786138, 0.006989731130391348, 0.006948208600585231, 0.00691130397433998, 0.006878484016187124, 0.006849280993363852, 0.006823283859637566, 0.006800130771295097, 0.006779502707804832, 0.006761118013004732  …  0.006761118013004732, 0.006779502707804832, 0.006800130771295097, 0.006823283859637566, 0.006849280993363852, 0.006878484016187124, 0.00691130397433998, 0.006948208600585231, 0.006989731130391348, 0.007036480732786138])"
      ]
     },
     "execution_count": 6,
     "metadata": {},
     "output_type": "execute_result"
    }
   ],
   "source": [
    "using LoopVectorization\n",
    "using LazyArrays\n",
    "using FillArrays\n",
    "\n",
    "function BathSpectra(W::Float64, W°::Float64, L₁::Int64, L₂::Int64)\n",
    "    Δϵ = 2.0*W°/(L₁-1)\n",
    "    Φ = ExponentialRate(L₂÷2, (W-W°)/Δϵ)\n",
    "    \n",
    "    Range1 = 1:L₁÷2\n",
    "    Range2 = 1:L₂÷2\n",
    "    exponent = @. Φ^Range2\n",
    "    aux = (W-W°)/(1-Φ^(L₂÷2))\n",
    "    \n",
    "    ϵ₁ = @. Δϵ*(Range1 - 0.5)\n",
    "    ϵ₂ = @. W° + aux *(1.0 - exponent)\n",
    "    \n",
    "    ϵ = ApplyArray(vcat, reverse(-ϵ₂), reverse(-ϵ₁), ϵ₁, ϵ₂)\n",
    "\n",
    "    γ₁ = Fill(Δϵ, L₁÷2)\n",
    "    γ₂ = @. Δϵ*Φ^ϵ₂\n",
    "\n",
    "    γ = ApplyArray(vcat, reverse(γ₂), reverse(γ₁), γ₁, γ₂)\n",
    "    \n",
    "    return ϵ, γ\n",
    "end\n",
    "\n",
    "@btime $BathSpectra($W, $W°, $L₁, $L₂)"
   ]
  },
  {
   "cell_type": "code",
   "execution_count": 7,
   "id": "c5ef4dfd",
   "metadata": {},
   "outputs": [
    {
     "data": {
      "text/plain": [
       "([-1.0, -0.9406179182442861, -0.8875413553312501, -0.8401007562924605, -0.7976976632201611, -0.7597971657869831, -0.7259211534113499, -0.6956422839453924, -0.6685785928010373, -0.6443886745089908  …  0.6443886745089908, 0.6685785928010373, 0.6956422839453924, 0.7259211534113499, 0.7597971657869831, 0.7976976632201611, 0.8401007562924605, 0.8875413553312501, 0.9406179182442861, 1.0], [0.007036480732786138, 0.006989731130391348, 0.006948208600585231, 0.00691130397433998, 0.006878484016187124, 0.006849280993363852, 0.006823283859637566, 0.006800130771295097, 0.006779502707804832, 0.006761118013004732  …  0.006761118013004732, 0.006779502707804832, 0.006800130771295097, 0.006823283859637566, 0.006849280993363852, 0.006878484016187124, 0.00691130397433998, 0.006948208600585231, 0.006989731130391348, 0.007036480732786138])"
      ]
     },
     "execution_count": 7,
     "metadata": {},
     "output_type": "execute_result"
    }
   ],
   "source": [
    "Γ = LinRange(0.0, 0.5, 20)\n",
    "ϵ, γ = BathSpectra(W, W°, L₁, L₂)"
   ]
  },
  {
   "cell_type": "code",
   "execution_count": 8,
   "id": "80032109",
   "metadata": {},
   "outputs": [
    {
     "name": "stdout",
     "output_type": "stream",
     "text": [
      "  291.896 μs (270 allocations: 26.20 KiB)\n"
     ]
    },
    {
     "data": {
      "text/plain": [
       "vcat(hcat(400×400 Diagonal{Float64, ApplyArray{Float64, 1, typeof(vcat), Tuple{ApplyArray{Float64, 1, typeof(vcat), Tuple{Vector{Float64}, StepRangeLen{Float64, Float64, Float64, Int64}, StepRangeLen{Float64, Float64, Float64, Int64}, Vector{Float64}}}, ApplyArray{Float64, 1, typeof(vcat), Tuple{Vector{Float64}, StepRangeLen{Float64, Float64, Float64, Int64}, StepRangeLen{Float64, Float64, Float64, Int64}, Vector{Float64}}}}}}, vcat(vcat(20-element Vector{Float64}, 80-element Fill{Float64}, 80-element Fill{Float64}, 20-element Vector{Float64}), vcat(20-element Vector{Float64}, 80-element Fill{Float64}, 80-element Fill{Float64}, 20-element Vector{Float64}))), hcat((vcat(vcat(20-element Vector{Float64}, 80-element Fill{Float64}, 80-element Fill{Float64}, 20-element Vector{Float64}), vcat(20-element Vector{Float64}, 80-element Fill{Float64}, 80-element Fill{Float64}, 20-element Vector{Float64})))', 1-element Vector{Float64})):\n",
       " -1.0          ⋅           ⋅         …   ⋅          ⋅         0.0183294\n",
       "   ⋅         -0.940618     ⋅             ⋅          ⋅         0.0182684\n",
       "   ⋅           ⋅         -0.887541       ⋅          ⋅         0.0182141\n",
       "   ⋅           ⋅           ⋅             ⋅          ⋅         0.0181656\n",
       "   ⋅           ⋅           ⋅             ⋅          ⋅         0.0181225\n",
       "   ⋅           ⋅           ⋅         …   ⋅          ⋅         0.0180839\n",
       "   ⋅           ⋅           ⋅             ⋅          ⋅         0.0180496\n",
       "   ⋅           ⋅           ⋅             ⋅          ⋅         0.0180189\n",
       "   ⋅           ⋅           ⋅             ⋅          ⋅         0.0179916\n",
       "   ⋅           ⋅           ⋅             ⋅          ⋅         0.0179672\n",
       "   ⋅           ⋅           ⋅         …   ⋅          ⋅         0.0179454\n",
       "   ⋅           ⋅           ⋅             ⋅          ⋅         0.0179259\n",
       "   ⋅           ⋅           ⋅             ⋅          ⋅         0.0179086\n",
       "  ⋮                                  ⋱                        ⋮\n",
       "   ⋅           ⋅           ⋅             ⋅          ⋅         0.0179454\n",
       "   ⋅           ⋅           ⋅         …   ⋅          ⋅         0.0179672\n",
       "   ⋅           ⋅           ⋅             ⋅          ⋅         0.0179916\n",
       "   ⋅           ⋅           ⋅             ⋅          ⋅         0.0180189\n",
       "   ⋅           ⋅           ⋅             ⋅          ⋅         0.0180496\n",
       "   ⋅           ⋅           ⋅             ⋅          ⋅         0.0180839\n",
       "   ⋅           ⋅           ⋅         …   ⋅          ⋅         0.0181225\n",
       "   ⋅           ⋅           ⋅             ⋅          ⋅         0.0181656\n",
       "   ⋅           ⋅           ⋅             ⋅          ⋅         0.0182141\n",
       "   ⋅           ⋅           ⋅            0.940618    ⋅         0.0182684\n",
       "   ⋅           ⋅           ⋅             ⋅         1.0        0.0183294\n",
       "  0.0183294   0.0182684   0.0182141  …  0.0182684  0.0183294  0.125"
      ]
     },
     "execution_count": 8,
     "metadata": {},
     "output_type": "execute_result"
    }
   ],
   "source": [
    "using StaticArrays\n",
    "\n",
    "function SystemBathHamiltonian(ϵ₀::Float64, Γ::Float64, ϵ, γ)\n",
    "    Hₛ = [ϵ₀]\n",
    "    Hₗ = Diagonal(ApplyArray(vcat, ϵ, ϵ))\n",
    "    \n",
    "    aux = sqrt(Γ/(2π))\n",
    "    κ =  @. aux*sqrt(γ)\n",
    "    Hₛₗ = ApplyArray(vcat, κ, κ)\n",
    "\n",
    "    H₁ = ApplyArray(hcat, Hₗ, Hₛₗ)\n",
    "    H₂ = ApplyArray(hcat, Hₛₗ', Hₛ)\n",
    "\n",
    "    return ApplyArray(vcat, H₁, H₂)\n",
    "end\n",
    "\n",
    "@btime $SystemBathHamiltonian($ϵ₀, $0.3, $ϵ, $γ)"
   ]
  },
  {
   "cell_type": "code",
   "execution_count": 9,
   "id": "d7b0588d",
   "metadata": {},
   "outputs": [
    {
     "name": "stdout",
     "output_type": "stream",
     "text": [
      "  376.242 ns (4 allocations: 832 bytes)\n"
     ]
    },
    {
     "data": {
      "text/plain": [
       "([0.007035049322774523 0.0 … 0.0 0.0; 0.0 0.006987444848479941 … 0.0 0.0; … ; 0.0 0.0 … 1.4314100116143693e-6 0.0; 0.0 0.0 … 0.0 0.0], [1.4314100116145922e-6 0.0 … 0.0 0.0; 0.0 2.286281911407194e-6 … 0.0 0.0; … ; 0.0 0.0 … 0.007035049322774523 0.0; 0.0 0.0 … 0.0 0.0])"
      ]
     },
     "execution_count": 9,
     "metadata": {},
     "output_type": "execute_result"
    }
   ],
   "source": [
    "function TunnelingRates(ΔV::Float64, Tₗ::Float64, Tᵣ::Float64, ϵ, γ)\n",
    "    ρₗ = @. γ*FermiDirac(ϵ, ΔV/2, Tₗ)\n",
    "    ρᵣ = @. γ*FermiDirac.(ϵ, -ΔV/2, Tᵣ)\n",
    "    \n",
    "    Γ₊ = ApplyArray(vcat, ρₗ, ρᵣ, zeros(SVector{1}))\n",
    "    Γ₋ = ApplyArray(vcat, γ.-ρₗ, γ.-ρᵣ, zeros(SVector{1}))\n",
    "    \n",
    "    return Diagonal(Γ₊), Diagonal(Γ₋)\n",
    "end\n",
    "\n",
    "@btime $TunnelingRates($ΔV, $Tₗ, $Tᵣ, $ϵ, $γ)"
   ]
  },
  {
   "cell_type": "code",
   "execution_count": 10,
   "id": "3517ad75",
   "metadata": {},
   "outputs": [
    {
     "name": "stdout",
     "output_type": "stream",
     "text": [
      "  491.640 μs (478 allocations: 107.67 KiB)\n"
     ]
    }
   ],
   "source": [
    "function Liouvillian(ϵ₀::Float64, Γ::Float64, ΔV::Float64, Tₗ::Float64, Tᵣ::Float64, ϵ, γ)\n",
    "    H = SystemBathHamiltonian(ϵ₀, Γ, ϵ, γ)\n",
    "    Γ₊, Γ₋ = TunnelingRates(ΔV, Tₗ, Tᵣ, ϵ, γ)\n",
    "    Ω = (Γ₋ - Γ₊)/2\n",
    "    \n",
    "    A1 = @. H-im*Ω\n",
    "    B1 = @. im*Γ₊\n",
    "    L₁ = ApplyArray(hcat, A1, B1)\n",
    "    \n",
    "    A2 = @. im*Γ₋\n",
    "    B2 = @. H+im*Ω\n",
    "    L₂ = ApplyArray(hcat, A2,  B2)\n",
    "    \n",
    "    return ApplyArray(vcat, L₁, L₂)\n",
    "end\n",
    "\n",
    "@btime $Liouvillian($ϵ₀, $0.3, $ΔV, $Tₗ, $Tᵣ, $ϵ, $γ)\n",
    "L = Liouvillian(ϵ₀, 0.3, ΔV, Tₗ, Tᵣ, ϵ, γ);"
   ]
  },
  {
   "cell_type": "code",
   "execution_count": 16,
   "id": "886081bb",
   "metadata": {},
   "outputs": [
    {
     "name": "stdout",
     "output_type": "stream",
     "text": [
      "  928.373 ms (2357 allocations: 52.81 MiB)\n"
     ]
    }
   ],
   "source": [
    "function RunMachine(ϵ₀::Float64, W::Float64, W°::Float64, Γ::Float64, ΔV::Float64, Tₗ::Float64, Tᵣ::Float64, L₁::Int64, L₂::Int64)\n",
    "    ϵ, γ = BathSpectra(W, W°, L₁, L₂)\n",
    "    L = Liouvillian(ϵ₀, Γ, ΔV, Tₗ, Tᵣ, ϵ, γ) \n",
    "    \n",
    "    λ, V = eigen(materialize(L),permute=false,scale=false)\n",
    "    V⁻¹ = inv(materialize(V))\n",
    "    D = @. 0.5*(sign(imag(λ))+1)\n",
    "    Corr = V*Diagonal(D)*V⁻¹\n",
    "\n",
    "    aₖaₖ= diag(Corr)[1:L₁+L₂]\n",
    "    aₖc = Corr[1:L₁+L₂, 1+2(L₁+L₂)]\n",
    "    caₖ = Corr[1+2(L₁+L₂), 1:L₁+L₂]\n",
    "\n",
    "    A = @. FermiDirac(ϵ, ΔV/2, Tₗ) - real(aₖaₖ)\n",
    "    B = @. real(aₖc) + real(caₖ)\n",
    "\n",
    "    Jₚ = sum(@. γ*A)\n",
    "    Jₕ = sum(@. γ*ϵ*A - √(Γ/(8π))*(γ^1.5)*B)\n",
    "\n",
    "    return Jₚ, Jₕ\n",
    "end\n",
    "\n",
    "@btime $RunMachine($ϵ₀, $W, $W°, $0.3, $ΔV, $Tₗ, $Tᵣ, $L₁, $L₂)\n",
    "RunMachine(ϵ₀, W, W°, 0.3, ΔV, Tₗ, Tᵣ, L₁, L₂);"
   ]
  },
  {
   "cell_type": "code",
   "execution_count": 17,
   "id": "5edca0d9",
   "metadata": {},
   "outputs": [
    {
     "name": "stdout",
     "output_type": "stream",
     "text": [
      " 26.478585 seconds (302.35 k allocations: 1.044 GiB, 0.16% gc time, 0.23% compilation time: 34% of which was recompilation)\n"
     ]
    },
    {
     "data": {
      "text/plain": [
       "20-element Vector{Tuple{Float64, Float64}}:\n",
       " (-1.0038669397097408e-15, -1.0630325199104779e-15)\n",
       " (0.0023905428504706837, 0.0002735536801837423)\n",
       " (0.00449938756301998, 0.0004716446043701313)\n",
       " (0.006358987048342775, 0.0006108031041391848)\n",
       " (0.007998254732266485, 0.0007039536729431912)\n",
       " (0.009442751358762068, 0.0007611941616473556)\n",
       " (0.010714947708746972, 0.0007904042079545336)\n",
       " (0.011834535292685964, 0.0007977296877459762)\n",
       " (0.01281876998234769, 0.0007879790995452273)\n",
       " (0.013682832246708585, 0.0007649547203843834)\n",
       " (0.01444017629419209, 0.0007317264687439137)\n",
       " (0.015102831896343195, 0.000690845057530983)\n",
       " (0.015681630313892466, 0.000644489554684404)\n",
       " (0.016186349316919674, 0.0005945529127133627)\n",
       " (0.016625796940361197, 0.0005426799393336418)\n",
       " (0.01700786477606701, 0.0004902776805908054)\n",
       " (0.01733957707176076, 0.0004385162378775345)\n",
       " (0.017627149457788652, 0.00038833177016770246)\n",
       " (0.01787605937716395, 0.0003404368625906347)\n",
       " (0.01809112347077391, 0.00029533879563476936)"
      ]
     },
     "execution_count": 17,
     "metadata": {},
     "output_type": "execute_result"
    }
   ],
   "source": [
    "Γ = LinRange(0.0, 0.5, 20)\n",
    "@time J = RunMachine.(ϵ₀, W, W°, Γ, ΔV, Tₗ, Tᵣ, L₁, L₂)"
   ]
  },
  {
   "cell_type": "code",
   "execution_count": 18,
   "id": "79870cec",
   "metadata": {},
   "outputs": [
    {
     "data": {
      "text/plain": [
       "20×3 adjoint(::Matrix{Float64}) with eltype Float64:\n",
       " 0.0        -1.00387e-15  -1.06303e-15\n",
       " 0.0263158   0.00239054    0.000273554\n",
       " 0.0526316   0.00449939    0.000471645\n",
       " 0.0789474   0.00635899    0.000610803\n",
       " 0.105263    0.00799825    0.000703954\n",
       " 0.131579    0.00944275    0.000761194\n",
       " 0.157895    0.0107149     0.000790404\n",
       " 0.184211    0.0118345     0.00079773\n",
       " 0.210526    0.0128188     0.000787979\n",
       " 0.236842    0.0136828     0.000764955\n",
       " 0.263158    0.0144402     0.000731726\n",
       " 0.289474    0.0151028     0.000690845\n",
       " 0.315789    0.0156816     0.00064449\n",
       " 0.342105    0.0161863     0.000594553\n",
       " 0.368421    0.0166258     0.00054268\n",
       " 0.394737    0.0170079     0.000490278\n",
       " 0.421053    0.0173396     0.000438516\n",
       " 0.447368    0.0176271     0.000388332\n",
       " 0.473684    0.0178761     0.000340437\n",
       " 0.5         0.0180911     0.000295339"
      ]
     },
     "execution_count": 18,
     "metadata": {},
     "output_type": "execute_result"
    }
   ],
   "source": [
    "using CSV\n",
    "A = hcat(collect.(J)...)\n",
    "vcat(collect(Γ)', A)'"
   ]
  },
  {
   "cell_type": "code",
   "execution_count": 14,
   "id": "0648f670",
   "metadata": {},
   "outputs": [
    {
     "data": {
      "text/plain": [
       "Tables.MatrixTable{Adjoint{Any, Matrix{Any}}} with 20 rows, 3 columns, and schema:\n",
       " :Column1  Any\n",
       " :Column2  Any\n",
       " :Column3  Any"
      ]
     },
     "execution_count": 14,
     "metadata": {},
     "output_type": "execute_result"
    }
   ],
   "source": [
    "Table = CSV.Tables.table(vcat(collect(Γ)', A)')"
   ]
  },
  {
   "cell_type": "code",
   "execution_count": 15,
   "id": "97f66763",
   "metadata": {},
   "outputs": [
    {
     "data": {
      "text/html": [
       "<div><div style = \"float: left;\"><span>20×3 DataFrame</span></div><div style = \"clear: both;\"></div></div><div class = \"data-frame\" style = \"overflow-x: scroll;\"><table class = \"data-frame\" style = \"margin-bottom: 6px;\"><thead><tr class = \"header\"><th class = \"rowNumber\" style = \"font-weight: bold; text-align: right;\">Row</th><th style = \"text-align: left;\">Column1</th><th style = \"text-align: left;\">Column2</th><th style = \"text-align: left;\">Column3</th></tr><tr class = \"subheader headerLastRow\"><th class = \"rowNumber\" style = \"font-weight: bold; text-align: right;\"></th><th title = \"Any\" style = \"text-align: left;\">Any</th><th title = \"Any\" style = \"text-align: left;\">Any</th><th title = \"Any\" style = \"text-align: left;\">Any</th></tr></thead><tbody><tr><td class = \"rowNumber\" style = \"font-weight: bold; text-align: right;\">1</td><td style = \"text-align: left;\">0.0</td><td style = \"text-align: left;\">[0.0 7.83776e-17 … -8.11559e-16 -1.79102e-15]</td><td style = \"text-align: left;\">[-0.0 -7.37234e-17 … -7.63367e-16 -1.79102e-15]</td></tr><tr><td class = \"rowNumber\" style = \"font-weight: bold; text-align: right;\">2</td><td style = \"text-align: left;\">0.0263158</td><td style = \"text-align: left;\">[1.14406e-7 1.25938e-7 … -8.61706e-8 -7.60337e-8]</td><td style = \"text-align: left;\">[1.431e-8 1.55655e-8 … -1.00767e-8 -8.80469e-9]</td></tr><tr><td class = \"rowNumber\" style = \"font-weight: bold; text-align: right;\">3</td><td style = \"text-align: left;\">0.0526316</td><td style = \"text-align: left;\">[2.23025e-7 2.458e-7 … -1.71873e-7 -1.51747e-7]</td><td style = \"text-align: left;\">[2.77869e-8 2.98716e-8 … -1.9072e-8 -1.64968e-8]</td></tr><tr><td class = \"rowNumber\" style = \"font-weight: bold; text-align: right;\">4</td><td style = \"text-align: left;\">0.0789474</td><td style = \"text-align: left;\">[3.26659e-7 3.60494e-7 … -2.57446e-7 -2.27377e-7]</td><td style = \"text-align: left;\">[4.03312e-8 4.27998e-8 … -2.75572e-8 -2.35742e-8]</td></tr><tr><td class = \"rowNumber\" style = \"font-weight: bold; text-align: right;\">5</td><td style = \"text-align: left;\">0.105263</td><td style = \"text-align: left;\">[4.26039e-7 4.70856e-7 … -3.43265e-7 -3.03193e-7]</td><td style = \"text-align: left;\">[5.18248e-8 5.42074e-8 … -3.60894e-8 -3.05173e-8]</td></tr><tr><td class = \"rowNumber\" style = \"font-weight: bold; text-align: right;\">6</td><td style = \"text-align: left;\">0.131579</td><td style = \"text-align: left;\">[5.21836e-7 5.77659e-7 … -4.29745e-7 -3.79495e-7]</td><td style = \"text-align: left;\">[6.21333e-8 6.3929e-8 … -4.52214e-8 -3.77968e-8]</td></tr><tr><td class = \"rowNumber\" style = \"font-weight: bold; text-align: right;\">7</td><td style = \"text-align: left;\">0.157895</td><td style = \"text-align: left;\">[6.14669e-7 6.81627e-7 … -5.17343e-7 -4.56617e-7]</td><td style = \"text-align: left;\">[7.11065e-8 7.17776e-8 … -5.55112e-8 -4.58819e-8]</td></tr><tr><td class = \"rowNumber\" style = \"font-weight: bold; text-align: right;\">8</td><td style = \"text-align: left;\">0.184211</td><td style = \"text-align: left;\">[7.05117e-7 7.83442e-7 … -6.06561e-7 -5.34924e-7]</td><td style = \"text-align: left;\">[7.85791e-8 7.75455e-8 … -6.75319e-8 -5.52472e-8]</td></tr><tr><td class = \"rowNumber\" style = \"font-weight: bold; text-align: right;\">9</td><td style = \"text-align: left;\">0.210526</td><td style = \"text-align: left;\">[7.93722e-7 8.83754e-7 … -6.97954e-7 -6.14821e-7]</td><td style = \"text-align: left;\">[8.43712e-8 8.10039e-8 … -8.1881e-8 -6.63802e-8]</td></tr><tr><td class = \"rowNumber\" style = \"font-weight: bold; text-align: right;\">10</td><td style = \"text-align: left;\">0.236842</td><td style = \"text-align: left;\">[8.81e-7 9.83188e-7 … -7.92135e-7 -6.96752e-7]</td><td style = \"text-align: left;\">[8.82878e-8 8.19024e-8 … -9.91901e-8 -7.97881e-8]</td></tr><tr><td class = \"rowNumber\" style = \"font-weight: bold; text-align: right;\">11</td><td style = \"text-align: left;\">0.263158</td><td style = \"text-align: left;\">[9.67446e-7 1.08235e-6 … -8.89779e-7 -7.81204e-7]</td><td style = \"text-align: left;\">[9.01183e-8 7.99685e-8 … -1.20135e-7 -9.6005e-8]</td></tr><tr><td class = \"rowNumber\" style = \"font-weight: bold; text-align: right;\">12</td><td style = \"text-align: left;\">0.289474</td><td style = \"text-align: left;\">[1.05354e-6 1.18184e-6 … -9.91635e-7 -8.68711e-7]</td><td style = \"text-align: left;\">[8.96361e-8 7.49063e-8 … -1.45446e-7 -1.15599e-7]</td></tr><tr><td class = \"rowNumber\" style = \"font-weight: bold; text-align: right;\">13</td><td style = \"text-align: left;\">0.315789</td><td style = \"text-align: left;\">[1.13975e-6 1.28226e-6 … -1.09853e-6 -9.59861e-7]</td><td style = \"text-align: left;\">[8.65972e-8 6.63945e-8 … -1.75919e-7 -1.3918e-7]</td></tr><tr><td class = \"rowNumber\" style = \"font-weight: bold; text-align: right;\">14</td><td style = \"text-align: left;\">0.342105</td><td style = \"text-align: left;\">[1.22653e-6 1.38418e-6 … -1.2114e-6 -1.0553e-6]</td><td style = \"text-align: left;\">[8.07391e-8 5.40855e-8 … -2.12431e-7 -1.67408e-7]</td></tr><tr><td class = \"rowNumber\" style = \"font-weight: bold; text-align: right;\">15</td><td style = \"text-align: left;\">0.368421</td><td style = \"text-align: left;\">[1.31436e-6 1.48823e-6 … -1.33127e-6 -1.15574e-6]</td><td style = \"text-align: left;\">[7.17795e-8 3.76023e-8 … -2.5595e-7 -2.01001e-7]</td></tr><tr><td class = \"rowNumber\" style = \"font-weight: bold; text-align: right;\">16</td><td style = \"text-align: left;\">0.394737</td><td style = \"text-align: left;\">[1.40369e-6 1.59502e-6 … -1.45928e-6 -1.26196e-6]</td><td style = \"text-align: left;\">[5.9414e-8 1.65362e-8 … -3.07555e-7 -2.40749e-7]</td></tr><tr><td class = \"rowNumber\" style = \"font-weight: bold; text-align: right;\">17</td><td style = \"text-align: left;\">0.421053</td><td style = \"text-align: left;\">[1.49501e-6 1.70519e-6 … -1.59674e-6 -1.37484e-6]</td><td style = \"text-align: left;\">[4.33149e-8 -9.55582e-9 … -3.68457e-7 -2.8752e-7]</td></tr><tr><td class = \"rowNumber\" style = \"font-weight: bold; text-align: right;\">18</td><td style = \"text-align: left;\">0.447368</td><td style = \"text-align: left;\">[1.5888e-6 1.81939e-6 … -1.74511e-6 -1.49535e-6]</td><td style = \"text-align: left;\">[2.31282e-8 -4.11545e-8 … -4.40013e-7 -3.42281e-7]</td></tr><tr><td class = \"rowNumber\" style = \"font-weight: bold; text-align: right;\">19</td><td style = \"text-align: left;\">0.473684</td><td style = \"text-align: left;\">[1.68556e-6 1.93832e-6 … -1.90603e-6 -1.62457e-6]</td><td style = \"text-align: left;\">[-1.52833e-9 -7.87821e-8 … -5.23761e-7 -4.06103e-7]</td></tr><tr><td class = \"rowNumber\" style = \"font-weight: bold; text-align: right;\">20</td><td style = \"text-align: left;\">0.5</td><td style = \"text-align: left;\">[1.78582e-6 2.06271e-6 … -2.08138e-6 -1.76372e-6]</td><td style = \"text-align: left;\">[-3.10684e-8 -1.23006e-7 … -6.21443e-7 -4.8019e-7]</td></tr></tbody></table></div>"
      ],
      "text/latex": [
       "\\begin{tabular}{r|ccc}\n",
       "\t& Column1 & Column2 & \\\\\n",
       "\t\\hline\n",
       "\t& Any & Any & \\\\\n",
       "\t\\hline\n",
       "\t1 & 0.0 & [0.0 7.83776e-17 … -8.11559e-16 -1.79102e-15] & $\\dots$ \\\\\n",
       "\t2 & 0.0263158 & [1.14406e-7 1.25938e-7 … -8.61706e-8 -7.60337e-8] & $\\dots$ \\\\\n",
       "\t3 & 0.0526316 & [2.23025e-7 2.458e-7 … -1.71873e-7 -1.51747e-7] & $\\dots$ \\\\\n",
       "\t4 & 0.0789474 & [3.26659e-7 3.60494e-7 … -2.57446e-7 -2.27377e-7] & $\\dots$ \\\\\n",
       "\t5 & 0.105263 & [4.26039e-7 4.70856e-7 … -3.43265e-7 -3.03193e-7] & $\\dots$ \\\\\n",
       "\t6 & 0.131579 & [5.21836e-7 5.77659e-7 … -4.29745e-7 -3.79495e-7] & $\\dots$ \\\\\n",
       "\t7 & 0.157895 & [6.14669e-7 6.81627e-7 … -5.17343e-7 -4.56617e-7] & $\\dots$ \\\\\n",
       "\t8 & 0.184211 & [7.05117e-7 7.83442e-7 … -6.06561e-7 -5.34924e-7] & $\\dots$ \\\\\n",
       "\t9 & 0.210526 & [7.93722e-7 8.83754e-7 … -6.97954e-7 -6.14821e-7] & $\\dots$ \\\\\n",
       "\t10 & 0.236842 & [8.81e-7 9.83188e-7 … -7.92135e-7 -6.96752e-7] & $\\dots$ \\\\\n",
       "\t11 & 0.263158 & [9.67446e-7 1.08235e-6 … -8.89779e-7 -7.81204e-7] & $\\dots$ \\\\\n",
       "\t12 & 0.289474 & [1.05354e-6 1.18184e-6 … -9.91635e-7 -8.68711e-7] & $\\dots$ \\\\\n",
       "\t13 & 0.315789 & [1.13975e-6 1.28226e-6 … -1.09853e-6 -9.59861e-7] & $\\dots$ \\\\\n",
       "\t14 & 0.342105 & [1.22653e-6 1.38418e-6 … -1.2114e-6 -1.0553e-6] & $\\dots$ \\\\\n",
       "\t15 & 0.368421 & [1.31436e-6 1.48823e-6 … -1.33127e-6 -1.15574e-6] & $\\dots$ \\\\\n",
       "\t16 & 0.394737 & [1.40369e-6 1.59502e-6 … -1.45928e-6 -1.26196e-6] & $\\dots$ \\\\\n",
       "\t17 & 0.421053 & [1.49501e-6 1.70519e-6 … -1.59674e-6 -1.37484e-6] & $\\dots$ \\\\\n",
       "\t18 & 0.447368 & [1.5888e-6 1.81939e-6 … -1.74511e-6 -1.49535e-6] & $\\dots$ \\\\\n",
       "\t19 & 0.473684 & [1.68556e-6 1.93832e-6 … -1.90603e-6 -1.62457e-6] & $\\dots$ \\\\\n",
       "\t20 & 0.5 & [1.78582e-6 2.06271e-6 … -2.08138e-6 -1.76372e-6] & $\\dots$ \\\\\n",
       "\\end{tabular}\n"
      ],
      "text/plain": [
       "\u001b[1m20×3 DataFrame\u001b[0m\n",
       "\u001b[1m Row \u001b[0m│\u001b[1m Column1   \u001b[0m\u001b[1m Column2                           \u001b[0m\u001b[1m Column3                  \u001b[0m ⋯\n",
       "     │\u001b[90m Any       \u001b[0m\u001b[90m Any                               \u001b[0m\u001b[90m Any                      \u001b[0m ⋯\n",
       "─────┼──────────────────────────────────────────────────────────────────────────\n",
       "   1 │ 0.0        [0.0 7.83776e-17 … -8.11559e-16 …  [-0.0 -7.37234e-17 … -7.6 ⋯\n",
       "   2 │ 0.0263158  [1.14406e-7 1.25938e-7 … -8.6170…  [1.431e-8 1.55655e-8 … -1\n",
       "   3 │ 0.0526316  [2.23025e-7 2.458e-7 … -1.71873e…  [2.77869e-8 2.98716e-8 …\n",
       "   4 │ 0.0789474  [3.26659e-7 3.60494e-7 … -2.5744…  [4.03312e-8 4.27998e-8 …\n",
       "   5 │ 0.105263   [4.26039e-7 4.70856e-7 … -3.4326…  [5.18248e-8 5.42074e-8 …  ⋯\n",
       "   6 │ 0.131579   [5.21836e-7 5.77659e-7 … -4.2974…  [6.21333e-8 6.3929e-8 … -\n",
       "   7 │ 0.157895   [6.14669e-7 6.81627e-7 … -5.1734…  [7.11065e-8 7.17776e-8 …\n",
       "   8 │ 0.184211   [7.05117e-7 7.83442e-7 … -6.0656…  [7.85791e-8 7.75455e-8 …\n",
       "   9 │ 0.210526   [7.93722e-7 8.83754e-7 … -6.9795…  [8.43712e-8 8.10039e-8 …  ⋯\n",
       "  10 │ 0.236842   [8.81e-7 9.83188e-7 … -7.92135e-…  [8.82878e-8 8.19024e-8 …\n",
       "  11 │ 0.263158   [9.67446e-7 1.08235e-6 … -8.8977…  [9.01183e-8 7.99685e-8 …\n",
       "  12 │ 0.289474   [1.05354e-6 1.18184e-6 … -9.9163…  [8.96361e-8 7.49063e-8 …\n",
       "  13 │ 0.315789   [1.13975e-6 1.28226e-6 … -1.0985…  [8.65972e-8 6.63945e-8 …  ⋯\n",
       "  14 │ 0.342105   [1.22653e-6 1.38418e-6 … -1.2114…  [8.07391e-8 5.40855e-8 …\n",
       "  15 │ 0.368421   [1.31436e-6 1.48823e-6 … -1.3312…  [7.17795e-8 3.76023e-8 …\n",
       "  16 │ 0.394737   [1.40369e-6 1.59502e-6 … -1.4592…  [5.9414e-8 1.65362e-8 … -\n",
       "  17 │ 0.421053   [1.49501e-6 1.70519e-6 … -1.5967…  [4.33149e-8 -9.55582e-9 … ⋯\n",
       "  18 │ 0.447368   [1.5888e-6 1.81939e-6 … -1.74511…  [2.31282e-8 -4.11545e-8 …\n",
       "  19 │ 0.473684   [1.68556e-6 1.93832e-6 … -1.9060…  [-1.52833e-9 -7.87821e-8\n",
       "  20 │ 0.5        [1.78582e-6 2.06271e-6 … -2.0813…  [-3.10684e-8 -1.23006e-7\n",
       "\u001b[36m                                                                1 column omitted\u001b[0m"
      ]
     },
     "execution_count": 15,
     "metadata": {},
     "output_type": "execute_result"
    }
   ],
   "source": [
    "DataFrame(Table)"
   ]
  }
 ],
 "metadata": {
  "kernelspec": {
   "display_name": "Julia 1.8.5",
   "language": "julia",
   "name": "julia-1.8"
  },
  "language_info": {
   "file_extension": ".jl",
   "mimetype": "application/julia",
   "name": "julia",
   "version": "1.8.5"
  }
 },
 "nbformat": 4,
 "nbformat_minor": 5
}
